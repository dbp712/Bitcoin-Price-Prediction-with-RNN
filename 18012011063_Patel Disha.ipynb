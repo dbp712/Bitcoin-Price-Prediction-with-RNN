{
  "nbformat": 4,
  "nbformat_minor": 0,
  "metadata": {
    "colab": {
      "name": "DL_Project.ipynb",
      "provenance": [],
      "collapsed_sections": []
    },
    "kernelspec": {
      "name": "python3",
      "display_name": "Python 3"
    },
    "language_info": {
      "name": "python"
    }
  },
  "cells": [
    {
      "cell_type": "markdown",
      "source": [
        "Name : Patel Disha Bharatbhai\n",
        "\n",
        "Enrollment no : 18012011063\n",
        "\n",
        "Batch : DL1"
      ],
      "metadata": {
        "id": "Fi9p5WX5VCot"
      }
    },
    {
      "cell_type": "markdown",
      "source": [
        "#Import Libarary\n"
      ],
      "metadata": {
        "id": "6-JJCovXU5sT"
      }
    },
    {
      "cell_type": "code",
      "source": [
        "import numpy as np\n",
        "import pandas as pd\n",
        "import matplotlib.pyplot as plt\n",
        "import math\n",
        "import seaborn as sns\n",
        "from keras.models import Sequential\n",
        "from keras.layers import Dense\n",
        "from keras.layers import LSTM\n",
        "from sklearn.preprocessing import MinMaxScaler\n",
        "from sklearn.metrics import mean_squared_error"
      ],
      "metadata": {
        "id": "dZMmT1oRVALw"
      },
      "execution_count": 1,
      "outputs": []
    },
    {
      "cell_type": "markdown",
      "source": [
        "#Data reading"
      ],
      "metadata": {
        "id": "rl4JNT-sVsKI"
      }
    },
    {
      "cell_type": "code",
      "source": [
        "df = pd.read_csv(\"/content/bitstampUSD_1-min_data_2012-01-01_to_2021-03-31.csv\")\n",
        "df.head()"
      ],
      "metadata": {
        "id": "gY3ZHBx_VzEW",
        "colab": {
          "base_uri": "https://localhost:8080/",
          "height": 206
        },
        "outputId": "26be7253-c4a9-425b-da92-50be35a55e8e"
      },
      "execution_count": 2,
      "outputs": [
        {
          "output_type": "execute_result",
          "data": {
            "text/html": [
              "<div>\n",
              "<style scoped>\n",
              "    .dataframe tbody tr th:only-of-type {\n",
              "        vertical-align: middle;\n",
              "    }\n",
              "\n",
              "    .dataframe tbody tr th {\n",
              "        vertical-align: top;\n",
              "    }\n",
              "\n",
              "    .dataframe thead th {\n",
              "        text-align: right;\n",
              "    }\n",
              "</style>\n",
              "<table border=\"1\" class=\"dataframe\">\n",
              "  <thead>\n",
              "    <tr style=\"text-align: right;\">\n",
              "      <th></th>\n",
              "      <th>Timestamp</th>\n",
              "      <th>Open</th>\n",
              "      <th>High</th>\n",
              "      <th>Low</th>\n",
              "      <th>Close</th>\n",
              "      <th>Volume_(BTC)</th>\n",
              "      <th>Volume_(Currency)</th>\n",
              "      <th>Weighted_Price</th>\n",
              "    </tr>\n",
              "  </thead>\n",
              "  <tbody>\n",
              "    <tr>\n",
              "      <th>0</th>\n",
              "      <td>1325317920</td>\n",
              "      <td>4.39</td>\n",
              "      <td>4.39</td>\n",
              "      <td>4.39</td>\n",
              "      <td>4.39</td>\n",
              "      <td>0.455581</td>\n",
              "      <td>2.0</td>\n",
              "      <td>4.39</td>\n",
              "    </tr>\n",
              "    <tr>\n",
              "      <th>1</th>\n",
              "      <td>1325317980</td>\n",
              "      <td>NaN</td>\n",
              "      <td>NaN</td>\n",
              "      <td>NaN</td>\n",
              "      <td>NaN</td>\n",
              "      <td>NaN</td>\n",
              "      <td>NaN</td>\n",
              "      <td>NaN</td>\n",
              "    </tr>\n",
              "    <tr>\n",
              "      <th>2</th>\n",
              "      <td>1325318040</td>\n",
              "      <td>NaN</td>\n",
              "      <td>NaN</td>\n",
              "      <td>NaN</td>\n",
              "      <td>NaN</td>\n",
              "      <td>NaN</td>\n",
              "      <td>NaN</td>\n",
              "      <td>NaN</td>\n",
              "    </tr>\n",
              "    <tr>\n",
              "      <th>3</th>\n",
              "      <td>1325318100</td>\n",
              "      <td>NaN</td>\n",
              "      <td>NaN</td>\n",
              "      <td>NaN</td>\n",
              "      <td>NaN</td>\n",
              "      <td>NaN</td>\n",
              "      <td>NaN</td>\n",
              "      <td>NaN</td>\n",
              "    </tr>\n",
              "    <tr>\n",
              "      <th>4</th>\n",
              "      <td>1325318160</td>\n",
              "      <td>NaN</td>\n",
              "      <td>NaN</td>\n",
              "      <td>NaN</td>\n",
              "      <td>NaN</td>\n",
              "      <td>NaN</td>\n",
              "      <td>NaN</td>\n",
              "      <td>NaN</td>\n",
              "    </tr>\n",
              "  </tbody>\n",
              "</table>\n",
              "</div>"
            ],
            "text/plain": [
              "    Timestamp  Open  High  ...  Volume_(BTC)  Volume_(Currency)  Weighted_Price\n",
              "0  1325317920  4.39  4.39  ...      0.455581                2.0            4.39\n",
              "1  1325317980   NaN   NaN  ...           NaN                NaN             NaN\n",
              "2  1325318040   NaN   NaN  ...           NaN                NaN             NaN\n",
              "3  1325318100   NaN   NaN  ...           NaN                NaN             NaN\n",
              "4  1325318160   NaN   NaN  ...           NaN                NaN             NaN\n",
              "\n",
              "[5 rows x 8 columns]"
            ]
          },
          "metadata": {},
          "execution_count": 2
        }
      ]
    },
    {
      "cell_type": "markdown",
      "source": [
        "#Data Preparation"
      ],
      "metadata": {
        "id": "IxHDrgT96Y3j"
      }
    },
    {
      "cell_type": "code",
      "source": [
        "df.info()"
      ],
      "metadata": {
        "colab": {
          "base_uri": "https://localhost:8080/"
        },
        "id": "HGx_LlRd6boR",
        "outputId": "cddb80fc-c83d-40be-d378-2fe8aae022a8"
      },
      "execution_count": 3,
      "outputs": [
        {
          "output_type": "stream",
          "name": "stdout",
          "text": [
            "<class 'pandas.core.frame.DataFrame'>\n",
            "RangeIndex: 160492 entries, 0 to 160491\n",
            "Data columns (total 8 columns):\n",
            " #   Column             Non-Null Count   Dtype  \n",
            "---  ------             --------------   -----  \n",
            " 0   Timestamp          160492 non-null  int64  \n",
            " 1   Open               2148 non-null    float64\n",
            " 2   High               2148 non-null    float64\n",
            " 3   Low                2148 non-null    float64\n",
            " 4   Close              2148 non-null    float64\n",
            " 5   Volume_(BTC)       2148 non-null    float64\n",
            " 6   Volume_(Currency)  2148 non-null    float64\n",
            " 7   Weighted_Price     2148 non-null    float64\n",
            "dtypes: float64(7), int64(1)\n",
            "memory usage: 9.8 MB\n"
          ]
        }
      ]
    },
    {
      "cell_type": "code",
      "source": [
        "df.columns"
      ],
      "metadata": {
        "colab": {
          "base_uri": "https://localhost:8080/"
        },
        "id": "7baKBDin7mAJ",
        "outputId": "a667d6d7-e94f-4767-a9e9-8a43fcbbf6c9"
      },
      "execution_count": 4,
      "outputs": [
        {
          "output_type": "execute_result",
          "data": {
            "text/plain": [
              "Index(['Timestamp', 'Open', 'High', 'Low', 'Close', 'Volume_(BTC)',\n",
              "       'Volume_(Currency)', 'Weighted_Price'],\n",
              "      dtype='object')"
            ]
          },
          "metadata": {},
          "execution_count": 4
        }
      ]
    },
    {
      "cell_type": "code",
      "source": [
        "df.isnull().sum()"
      ],
      "metadata": {
        "colab": {
          "base_uri": "https://localhost:8080/"
        },
        "id": "Qr1XtkZ-7o83",
        "outputId": "a73b5f89-ba43-494d-876c-f0e1696a3543"
      },
      "execution_count": 5,
      "outputs": [
        {
          "output_type": "execute_result",
          "data": {
            "text/plain": [
              "Timestamp                 0\n",
              "Open                 158344\n",
              "High                 158344\n",
              "Low                  158344\n",
              "Close                158344\n",
              "Volume_(BTC)         158344\n",
              "Volume_(Currency)    158344\n",
              "Weighted_Price       158344\n",
              "dtype: int64"
            ]
          },
          "metadata": {},
          "execution_count": 5
        }
      ]
    },
    {
      "cell_type": "code",
      "source": [
        "df = df.dropna()\n",
        "df.head()"
      ],
      "metadata": {
        "colab": {
          "base_uri": "https://localhost:8080/",
          "height": 206
        },
        "id": "vq7Slaqb7xYq",
        "outputId": "d0299d0f-9051-43cd-8996-7d61349c811c"
      },
      "execution_count": 8,
      "outputs": [
        {
          "output_type": "execute_result",
          "data": {
            "text/html": [
              "<div>\n",
              "<style scoped>\n",
              "    .dataframe tbody tr th:only-of-type {\n",
              "        vertical-align: middle;\n",
              "    }\n",
              "\n",
              "    .dataframe tbody tr th {\n",
              "        vertical-align: top;\n",
              "    }\n",
              "\n",
              "    .dataframe thead th {\n",
              "        text-align: right;\n",
              "    }\n",
              "</style>\n",
              "<table border=\"1\" class=\"dataframe\">\n",
              "  <thead>\n",
              "    <tr style=\"text-align: right;\">\n",
              "      <th></th>\n",
              "      <th>Timestamp</th>\n",
              "      <th>Open</th>\n",
              "      <th>High</th>\n",
              "      <th>Low</th>\n",
              "      <th>Close</th>\n",
              "      <th>Volume_(BTC)</th>\n",
              "      <th>Volume_(Currency)</th>\n",
              "      <th>Weighted_Price</th>\n",
              "    </tr>\n",
              "  </thead>\n",
              "  <tbody>\n",
              "    <tr>\n",
              "      <th>0</th>\n",
              "      <td>1325317920</td>\n",
              "      <td>4.39</td>\n",
              "      <td>4.39</td>\n",
              "      <td>4.39</td>\n",
              "      <td>4.39</td>\n",
              "      <td>0.455581</td>\n",
              "      <td>2.000000</td>\n",
              "      <td>4.390000</td>\n",
              "    </tr>\n",
              "    <tr>\n",
              "      <th>478</th>\n",
              "      <td>1325346600</td>\n",
              "      <td>4.39</td>\n",
              "      <td>4.39</td>\n",
              "      <td>4.39</td>\n",
              "      <td>4.39</td>\n",
              "      <td>48.000000</td>\n",
              "      <td>210.720000</td>\n",
              "      <td>4.390000</td>\n",
              "    </tr>\n",
              "    <tr>\n",
              "      <th>547</th>\n",
              "      <td>1325350740</td>\n",
              "      <td>4.50</td>\n",
              "      <td>4.57</td>\n",
              "      <td>4.50</td>\n",
              "      <td>4.57</td>\n",
              "      <td>37.862297</td>\n",
              "      <td>171.380338</td>\n",
              "      <td>4.526411</td>\n",
              "    </tr>\n",
              "    <tr>\n",
              "      <th>548</th>\n",
              "      <td>1325350800</td>\n",
              "      <td>4.58</td>\n",
              "      <td>4.58</td>\n",
              "      <td>4.58</td>\n",
              "      <td>4.58</td>\n",
              "      <td>9.000000</td>\n",
              "      <td>41.220000</td>\n",
              "      <td>4.580000</td>\n",
              "    </tr>\n",
              "    <tr>\n",
              "      <th>1224</th>\n",
              "      <td>1325391360</td>\n",
              "      <td>4.58</td>\n",
              "      <td>4.58</td>\n",
              "      <td>4.58</td>\n",
              "      <td>4.58</td>\n",
              "      <td>1.502000</td>\n",
              "      <td>6.879160</td>\n",
              "      <td>4.580000</td>\n",
              "    </tr>\n",
              "  </tbody>\n",
              "</table>\n",
              "</div>"
            ],
            "text/plain": [
              "       Timestamp  Open  High  ...  Volume_(BTC)  Volume_(Currency)  Weighted_Price\n",
              "0     1325317920  4.39  4.39  ...      0.455581           2.000000        4.390000\n",
              "478   1325346600  4.39  4.39  ...     48.000000         210.720000        4.390000\n",
              "547   1325350740  4.50  4.57  ...     37.862297         171.380338        4.526411\n",
              "548   1325350800  4.58  4.58  ...      9.000000          41.220000        4.580000\n",
              "1224  1325391360  4.58  4.58  ...      1.502000           6.879160        4.580000\n",
              "\n",
              "[5 rows x 8 columns]"
            ]
          },
          "metadata": {},
          "execution_count": 8
        }
      ]
    },
    {
      "cell_type": "code",
      "source": [
        "df['date'] = pd.to_datetime(df['Timestamp'],unit='s').dt.date\n",
        "group = df.groupby('date')\n",
        "real_price = group['Weighted_Price'].mean()"
      ],
      "metadata": {
        "id": "fxgNGnVf9L94"
      },
      "execution_count": 9,
      "outputs": []
    },
    {
      "cell_type": "code",
      "source": [
        "real_price"
      ],
      "metadata": {
        "colab": {
          "base_uri": "https://localhost:8080/"
        },
        "id": "ccXJgMcZAskr",
        "outputId": "19b34590-1a1b-427b-e223-c02e97b77360"
      },
      "execution_count": 10,
      "outputs": [
        {
          "output_type": "execute_result",
          "data": {
            "text/plain": [
              "date\n",
              "2011-12-31    4.471603\n",
              "2012-01-01    4.806667\n",
              "2012-01-02    5.000000\n",
              "2012-01-03    5.252500\n",
              "2012-01-04    5.208159\n",
              "                ...   \n",
              "2012-04-16    4.960476\n",
              "2012-04-17    4.986875\n",
              "2012-04-18    5.094582\n",
              "2012-04-19    5.127227\n",
              "2012-04-20    5.136000\n",
              "Name: Weighted_Price, Length: 112, dtype: float64"
            ]
          },
          "metadata": {},
          "execution_count": 10
        }
      ]
    },
    {
      "cell_type": "code",
      "source": [
        "df.info()"
      ],
      "metadata": {
        "colab": {
          "base_uri": "https://localhost:8080/"
        },
        "id": "UoFLTLq-AwKh",
        "outputId": "471e050e-b849-4fa5-e9ac-e00b7509174d"
      },
      "execution_count": 11,
      "outputs": [
        {
          "output_type": "stream",
          "name": "stdout",
          "text": [
            "<class 'pandas.core.frame.DataFrame'>\n",
            "Int64Index: 2148 entries, 0 to 160423\n",
            "Data columns (total 9 columns):\n",
            " #   Column             Non-Null Count  Dtype  \n",
            "---  ------             --------------  -----  \n",
            " 0   Timestamp          2148 non-null   int64  \n",
            " 1   Open               2148 non-null   float64\n",
            " 2   High               2148 non-null   float64\n",
            " 3   Low                2148 non-null   float64\n",
            " 4   Close              2148 non-null   float64\n",
            " 5   Volume_(BTC)       2148 non-null   float64\n",
            " 6   Volume_(Currency)  2148 non-null   float64\n",
            " 7   Weighted_Price     2148 non-null   float64\n",
            " 8   date               2148 non-null   object \n",
            "dtypes: float64(7), int64(1), object(1)\n",
            "memory usage: 167.8+ KB\n"
          ]
        }
      ]
    },
    {
      "cell_type": "code",
      "source": [
        "df.corr()"
      ],
      "metadata": {
        "colab": {
          "base_uri": "https://localhost:8080/",
          "height": 300
        },
        "id": "v0xa9dz_BjrV",
        "outputId": "e401197c-497a-48c5-b9de-7ff7f9f450c0"
      },
      "execution_count": 12,
      "outputs": [
        {
          "output_type": "execute_result",
          "data": {
            "text/html": [
              "<div>\n",
              "<style scoped>\n",
              "    .dataframe tbody tr th:only-of-type {\n",
              "        vertical-align: middle;\n",
              "    }\n",
              "\n",
              "    .dataframe tbody tr th {\n",
              "        vertical-align: top;\n",
              "    }\n",
              "\n",
              "    .dataframe thead th {\n",
              "        text-align: right;\n",
              "    }\n",
              "</style>\n",
              "<table border=\"1\" class=\"dataframe\">\n",
              "  <thead>\n",
              "    <tr style=\"text-align: right;\">\n",
              "      <th></th>\n",
              "      <th>Timestamp</th>\n",
              "      <th>Open</th>\n",
              "      <th>High</th>\n",
              "      <th>Low</th>\n",
              "      <th>Close</th>\n",
              "      <th>Volume_(BTC)</th>\n",
              "      <th>Volume_(Currency)</th>\n",
              "      <th>Weighted_Price</th>\n",
              "    </tr>\n",
              "  </thead>\n",
              "  <tbody>\n",
              "    <tr>\n",
              "      <th>Timestamp</th>\n",
              "      <td>1.000000</td>\n",
              "      <td>-0.719567</td>\n",
              "      <td>-0.719916</td>\n",
              "      <td>-0.718691</td>\n",
              "      <td>-0.719162</td>\n",
              "      <td>0.250764</td>\n",
              "      <td>0.230437</td>\n",
              "      <td>-0.719018</td>\n",
              "    </tr>\n",
              "    <tr>\n",
              "      <th>Open</th>\n",
              "      <td>-0.719567</td>\n",
              "      <td>1.000000</td>\n",
              "      <td>0.999770</td>\n",
              "      <td>0.999632</td>\n",
              "      <td>0.999467</td>\n",
              "      <td>-0.189363</td>\n",
              "      <td>-0.158519</td>\n",
              "      <td>0.999795</td>\n",
              "    </tr>\n",
              "    <tr>\n",
              "      <th>High</th>\n",
              "      <td>-0.719916</td>\n",
              "      <td>0.999770</td>\n",
              "      <td>1.000000</td>\n",
              "      <td>0.999312</td>\n",
              "      <td>0.999705</td>\n",
              "      <td>-0.188256</td>\n",
              "      <td>-0.157323</td>\n",
              "      <td>0.999828</td>\n",
              "    </tr>\n",
              "    <tr>\n",
              "      <th>Low</th>\n",
              "      <td>-0.718691</td>\n",
              "      <td>0.999632</td>\n",
              "      <td>0.999312</td>\n",
              "      <td>1.000000</td>\n",
              "      <td>0.999596</td>\n",
              "      <td>-0.190523</td>\n",
              "      <td>-0.159639</td>\n",
              "      <td>0.999692</td>\n",
              "    </tr>\n",
              "    <tr>\n",
              "      <th>Close</th>\n",
              "      <td>-0.719162</td>\n",
              "      <td>0.999467</td>\n",
              "      <td>0.999705</td>\n",
              "      <td>0.999596</td>\n",
              "      <td>1.000000</td>\n",
              "      <td>-0.189190</td>\n",
              "      <td>-0.158156</td>\n",
              "      <td>0.999836</td>\n",
              "    </tr>\n",
              "    <tr>\n",
              "      <th>Volume_(BTC)</th>\n",
              "      <td>0.250764</td>\n",
              "      <td>-0.189363</td>\n",
              "      <td>-0.188256</td>\n",
              "      <td>-0.190523</td>\n",
              "      <td>-0.189190</td>\n",
              "      <td>1.000000</td>\n",
              "      <td>0.997416</td>\n",
              "      <td>-0.189626</td>\n",
              "    </tr>\n",
              "    <tr>\n",
              "      <th>Volume_(Currency)</th>\n",
              "      <td>0.230437</td>\n",
              "      <td>-0.158519</td>\n",
              "      <td>-0.157323</td>\n",
              "      <td>-0.159639</td>\n",
              "      <td>-0.158156</td>\n",
              "      <td>0.997416</td>\n",
              "      <td>1.000000</td>\n",
              "      <td>-0.158672</td>\n",
              "    </tr>\n",
              "    <tr>\n",
              "      <th>Weighted_Price</th>\n",
              "      <td>-0.719018</td>\n",
              "      <td>0.999795</td>\n",
              "      <td>0.999828</td>\n",
              "      <td>0.999692</td>\n",
              "      <td>0.999836</td>\n",
              "      <td>-0.189626</td>\n",
              "      <td>-0.158672</td>\n",
              "      <td>1.000000</td>\n",
              "    </tr>\n",
              "  </tbody>\n",
              "</table>\n",
              "</div>"
            ],
            "text/plain": [
              "                   Timestamp      Open  ...  Volume_(Currency)  Weighted_Price\n",
              "Timestamp           1.000000 -0.719567  ...           0.230437       -0.719018\n",
              "Open               -0.719567  1.000000  ...          -0.158519        0.999795\n",
              "High               -0.719916  0.999770  ...          -0.157323        0.999828\n",
              "Low                -0.718691  0.999632  ...          -0.159639        0.999692\n",
              "Close              -0.719162  0.999467  ...          -0.158156        0.999836\n",
              "Volume_(BTC)        0.250764 -0.189363  ...           0.997416       -0.189626\n",
              "Volume_(Currency)   0.230437 -0.158519  ...           1.000000       -0.158672\n",
              "Weighted_Price     -0.719018  0.999795  ...          -0.158672        1.000000\n",
              "\n",
              "[8 rows x 8 columns]"
            ]
          },
          "metadata": {},
          "execution_count": 12
        }
      ]
    },
    {
      "cell_type": "code",
      "source": [
        "df.describe()"
      ],
      "metadata": {
        "colab": {
          "base_uri": "https://localhost:8080/",
          "height": 300
        },
        "id": "lBmOacG9BpJ_",
        "outputId": "5b163b4b-b926-4569-f41d-2519237d0d3a"
      },
      "execution_count": 13,
      "outputs": [
        {
          "output_type": "execute_result",
          "data": {
            "text/html": [
              "<div>\n",
              "<style scoped>\n",
              "    .dataframe tbody tr th:only-of-type {\n",
              "        vertical-align: middle;\n",
              "    }\n",
              "\n",
              "    .dataframe tbody tr th {\n",
              "        vertical-align: top;\n",
              "    }\n",
              "\n",
              "    .dataframe thead th {\n",
              "        text-align: right;\n",
              "    }\n",
              "</style>\n",
              "<table border=\"1\" class=\"dataframe\">\n",
              "  <thead>\n",
              "    <tr style=\"text-align: right;\">\n",
              "      <th></th>\n",
              "      <th>Timestamp</th>\n",
              "      <th>Open</th>\n",
              "      <th>High</th>\n",
              "      <th>Low</th>\n",
              "      <th>Close</th>\n",
              "      <th>Volume_(BTC)</th>\n",
              "      <th>Volume_(Currency)</th>\n",
              "      <th>Weighted_Price</th>\n",
              "    </tr>\n",
              "  </thead>\n",
              "  <tbody>\n",
              "    <tr>\n",
              "      <th>count</th>\n",
              "      <td>2.148000e+03</td>\n",
              "      <td>2148.000000</td>\n",
              "      <td>2148.000000</td>\n",
              "      <td>2148.000000</td>\n",
              "      <td>2148.000000</td>\n",
              "      <td>2148.000000</td>\n",
              "      <td>2148.000000</td>\n",
              "      <td>2148.000000</td>\n",
              "    </tr>\n",
              "    <tr>\n",
              "      <th>mean</th>\n",
              "      <td>1.330508e+09</td>\n",
              "      <td>5.358110</td>\n",
              "      <td>5.359916</td>\n",
              "      <td>5.355261</td>\n",
              "      <td>5.357402</td>\n",
              "      <td>11.645341</td>\n",
              "      <td>59.414027</td>\n",
              "      <td>5.357481</td>\n",
              "    </tr>\n",
              "    <tr>\n",
              "      <th>std</th>\n",
              "      <td>2.752778e+06</td>\n",
              "      <td>0.714615</td>\n",
              "      <td>0.715603</td>\n",
              "      <td>0.714076</td>\n",
              "      <td>0.715377</td>\n",
              "      <td>21.947642</td>\n",
              "      <td>110.314553</td>\n",
              "      <td>0.715321</td>\n",
              "    </tr>\n",
              "    <tr>\n",
              "      <th>min</th>\n",
              "      <td>1.325318e+09</td>\n",
              "      <td>3.800000</td>\n",
              "      <td>3.800000</td>\n",
              "      <td>3.800000</td>\n",
              "      <td>3.800000</td>\n",
              "      <td>0.002096</td>\n",
              "      <td>0.010000</td>\n",
              "      <td>3.800000</td>\n",
              "    </tr>\n",
              "    <tr>\n",
              "      <th>25%</th>\n",
              "      <td>1.328189e+09</td>\n",
              "      <td>4.880000</td>\n",
              "      <td>4.890000</td>\n",
              "      <td>4.880000</td>\n",
              "      <td>4.880000</td>\n",
              "      <td>1.500510</td>\n",
              "      <td>9.528090</td>\n",
              "      <td>4.880000</td>\n",
              "    </tr>\n",
              "    <tr>\n",
              "      <th>50%</th>\n",
              "      <td>1.330529e+09</td>\n",
              "      <td>5.030000</td>\n",
              "      <td>5.030000</td>\n",
              "      <td>5.030000</td>\n",
              "      <td>5.030000</td>\n",
              "      <td>3.916659</td>\n",
              "      <td>19.750304</td>\n",
              "      <td>5.030000</td>\n",
              "    </tr>\n",
              "    <tr>\n",
              "      <th>75%</th>\n",
              "      <td>1.332937e+09</td>\n",
              "      <td>5.880000</td>\n",
              "      <td>5.880000</td>\n",
              "      <td>5.880000</td>\n",
              "      <td>5.880000</td>\n",
              "      <td>12.398475</td>\n",
              "      <td>64.672500</td>\n",
              "      <td>5.880000</td>\n",
              "    </tr>\n",
              "    <tr>\n",
              "      <th>max</th>\n",
              "      <td>1.334943e+09</td>\n",
              "      <td>7.380000</td>\n",
              "      <td>7.380000</td>\n",
              "      <td>7.380000</td>\n",
              "      <td>7.380000</td>\n",
              "      <td>247.560124</td>\n",
              "      <td>1319.495460</td>\n",
              "      <td>7.380000</td>\n",
              "    </tr>\n",
              "  </tbody>\n",
              "</table>\n",
              "</div>"
            ],
            "text/plain": [
              "          Timestamp         Open  ...  Volume_(Currency)  Weighted_Price\n",
              "count  2.148000e+03  2148.000000  ...        2148.000000     2148.000000\n",
              "mean   1.330508e+09     5.358110  ...          59.414027        5.357481\n",
              "std    2.752778e+06     0.714615  ...         110.314553        0.715321\n",
              "min    1.325318e+09     3.800000  ...           0.010000        3.800000\n",
              "25%    1.328189e+09     4.880000  ...           9.528090        4.880000\n",
              "50%    1.330529e+09     5.030000  ...          19.750304        5.030000\n",
              "75%    1.332937e+09     5.880000  ...          64.672500        5.880000\n",
              "max    1.334943e+09     7.380000  ...        1319.495460        7.380000\n",
              "\n",
              "[8 rows x 8 columns]"
            ]
          },
          "metadata": {},
          "execution_count": 13
        }
      ]
    },
    {
      "cell_type": "code",
      "source": [
        "# Line Plot\n",
        "\n",
        "df.Weighted_Price.plot(kind = \"line\", color = \"g\", label = \"Weighted_Price\",linewidth=1,alpha=0.5,grid=True,linestyle=':')\n",
        "\n",
        "plt.legend(loc=\"upper right\")   \n",
        "plt.xlabel(\"x axis\")            \n",
        "plt.ylabel(\"y axis\")           \n",
        "plt.title(\"Line Plot for Weighted_Price\") \n",
        "\n",
        "plt.show()"
      ],
      "metadata": {
        "colab": {
          "base_uri": "https://localhost:8080/",
          "height": 295
        },
        "id": "v0mr5SQWEWjZ",
        "outputId": "01a31869-8112-4e6c-bb38-7c132d366d43"
      },
      "execution_count": 14,
      "outputs": [
        {
          "output_type": "display_data",
          "data": {
            "image/png": "[encoded data removed]",
            "text/plain": [
              "<Figure size 432x288 with 1 Axes>"
            ]
          },
          "metadata": {
            "needs_background": "light"
          }
        }
      ]
    },
    {
      "cell_type": "code",
      "source": [
        "# Scatter Plot \n",
        "# x = Volume_(BTC), y = Volume_(Currency)\n",
        "df.plot(kind='scatter', x='Volume_(BTC)', y='Volume_(Currency)',alpha = 0.5,color = 'green')\n",
        "plt.xlabel('BTC')              \n",
        "plt.ylabel('Currency')\n",
        "plt.title('BTC - Currency Scatter Plot')\n",
        "plt.show()"
      ],
      "metadata": {
        "colab": {
          "base_uri": "https://localhost:8080/",
          "height": 295
        },
        "id": "XBMgkKIdElmC",
        "outputId": "683adb2a-79d8-45e5-b132-80458d8f4206"
      },
      "execution_count": 15,
      "outputs": [
        {
          "output_type": "display_data",
          "data": {
            "image/png": "[encoded data removed]",
            "text/plain": [
              "<Figure size 432x288 with 1 Axes>"
            ]
          },
          "metadata": {
            "needs_background": "light"
          }
        }
      ]
    },
    {
      "cell_type": "code",
      "source": [
        "# split data\n",
        "prediction_days = 30\n",
        "df_train=real_price[:len(real_price)-prediction_days]\n",
        "df_test=real_price[len(real_price)-prediction_days:]\n",
        "\n",
        "# Data preprocess\n",
        "training_set = df_train.values\n",
        "training_set = np.reshape(training_set, (len(training_set), 1))\n",
        "\n",
        "from sklearn.preprocessing import MinMaxScaler\n",
        "sc = MinMaxScaler()\n",
        "training_set = sc.fit_transform(training_set)\n",
        "X_train = training_set[0:len(training_set)-1]\n",
        "y_train = training_set[1:len(training_set)]\n",
        "X_train = np.reshape(X_train, (len(X_train), 1, 1))"
      ],
      "metadata": {
        "id": "8giDg7uqIUDJ"
      },
      "execution_count": 18,
      "outputs": []
    },
    {
      "cell_type": "code",
      "source": [
        "### Importing the Keras libraries and packages\n",
        "from keras.models import Sequential\n",
        "from keras.layers import Dense\n",
        "from keras.layers import SimpleRNN\n",
        "from keras.layers import Dropout"
      ],
      "metadata": {
        "id": "2wWzasycHsTv"
      },
      "execution_count": 19,
      "outputs": []
    },
    {
      "cell_type": "code",
      "source": [
        "# Initialising the RNN\n",
        "regressor = Sequential()\n",
        "\n",
        "# Adding the first RNN layer and some Dropout regularisation\n",
        "regressor.add(SimpleRNN(units = 50,activation='tanh', return_sequences = True, input_shape = (X_train.shape[1], 1)))\n",
        "regressor.add(Dropout(0.2))\n",
        "\n",
        "# Adding a second RNN layer and some Dropout regularisation\n",
        "regressor.add(SimpleRNN(units = 50,activation='tanh', return_sequences = True))\n",
        "regressor.add(Dropout(0.2))\n",
        "\n",
        "# Adding a third RNN layer and some Dropout regularisation\n",
        "regressor.add(SimpleRNN(units = 50,activation='tanh', return_sequences = True))\n",
        "regressor.add(Dropout(0.2))\n",
        "\n",
        "# Adding a fourth RNN layer and some Dropout regularisation\n",
        "regressor.add(SimpleRNN(units = 50))\n",
        "regressor.add(Dropout(0.2))\n",
        "\n",
        "# Adding the output layer\n",
        "regressor.add(Dense(units = 1))\n",
        "\n",
        "# Compiling the RNN\n",
        "regressor.compile(optimizer = 'adam', loss = 'mean_squared_error')\n",
        "\n",
        "# Fitting the RNN to the Training set\n",
        "regressor.fit(X_train, y_train, epochs = 100, batch_size = 32)\n",
        "# epoch= 250\n"
      ],
      "metadata": {
        "colab": {
          "base_uri": "https://localhost:8080/"
        },
        "id": "XoeuEy9FHzTO",
        "outputId": "29b4fe4c-8ba5-44f7-8651-8daa409fbe06"
      },
      "execution_count": 20,
      "outputs": [
        {
          "output_type": "stream",
          "name": "stdout",
          "text": [
            "Epoch 1/100\n",
            "3/3 [==============================] - 3s 7ms/step - loss: 0.5522\n",
            "Epoch 2/100\n",
            "3/3 [==============================] - 0s 6ms/step - loss: 0.1058\n",
            "Epoch 3/100\n",
            "3/3 [==============================] - 0s 6ms/step - loss: 0.0373\n",
            "Epoch 4/100\n",
            "3/3 [==============================] - 0s 6ms/step - loss: 0.0637\n",
            "Epoch 5/100\n",
            "3/3 [==============================] - 0s 6ms/step - loss: 0.0705\n",
            "Epoch 6/100\n",
            "3/3 [==============================] - 0s 6ms/step - loss: 0.0594\n",
            "Epoch 7/100\n",
            "3/3 [==============================] - 0s 6ms/step - loss: 0.0450\n",
            "Epoch 8/100\n",
            "3/3 [==============================] - 0s 13ms/step - loss: 0.0351\n",
            "Epoch 9/100\n",
            "3/3 [==============================] - 0s 6ms/step - loss: 0.0255\n",
            "Epoch 10/100\n",
            "3/3 [==============================] - 0s 6ms/step - loss: 0.0458\n",
            "Epoch 11/100\n",
            "3/3 [==============================] - 0s 7ms/step - loss: 0.0341\n",
            "Epoch 12/100\n",
            "3/3 [==============================] - 0s 7ms/step - loss: 0.0442\n",
            "Epoch 13/100\n",
            "3/3 [==============================] - 0s 6ms/step - loss: 0.0263\n",
            "Epoch 14/100\n",
            "3/3 [==============================] - 0s 6ms/step - loss: 0.0325\n",
            "Epoch 15/100\n",
            "3/3 [==============================] - 0s 8ms/step - loss: 0.0256\n",
            "Epoch 16/100\n",
            "3/3 [==============================] - 0s 6ms/step - loss: 0.0315\n",
            "Epoch 17/100\n",
            "3/3 [==============================] - 0s 10ms/step - loss: 0.0281\n",
            "Epoch 18/100\n",
            "3/3 [==============================] - 0s 6ms/step - loss: 0.0371\n",
            "Epoch 19/100\n",
            "3/3 [==============================] - 0s 7ms/step - loss: 0.0255\n",
            "Epoch 20/100\n",
            "3/3 [==============================] - 0s 7ms/step - loss: 0.0259\n",
            "Epoch 21/100\n",
            "3/3 [==============================] - 0s 8ms/step - loss: 0.0242\n",
            "Epoch 22/100\n",
            "3/3 [==============================] - 0s 7ms/step - loss: 0.0331\n",
            "Epoch 23/100\n",
            "3/3 [==============================] - 0s 6ms/step - loss: 0.0278\n",
            "Epoch 24/100\n",
            "3/3 [==============================] - 0s 8ms/step - loss: 0.0277\n",
            "Epoch 25/100\n",
            "3/3 [==============================] - 0s 7ms/step - loss: 0.0211\n",
            "Epoch 26/100\n",
            "3/3 [==============================] - 0s 8ms/step - loss: 0.0178\n",
            "Epoch 27/100\n",
            "3/3 [==============================] - 0s 7ms/step - loss: 0.0216\n",
            "Epoch 28/100\n",
            "3/3 [==============================] - 0s 7ms/step - loss: 0.0308\n",
            "Epoch 29/100\n",
            "3/3 [==============================] - 0s 6ms/step - loss: 0.0246\n",
            "Epoch 30/100\n",
            "3/3 [==============================] - 0s 6ms/step - loss: 0.0257\n",
            "Epoch 31/100\n",
            "3/3 [==============================] - 0s 8ms/step - loss: 0.0188\n",
            "Epoch 32/100\n",
            "3/3 [==============================] - 0s 6ms/step - loss: 0.0222\n",
            "Epoch 33/100\n",
            "3/3 [==============================] - 0s 9ms/step - loss: 0.0233\n",
            "Epoch 34/100\n",
            "3/3 [==============================] - 0s 6ms/step - loss: 0.0277\n",
            "Epoch 35/100\n",
            "3/3 [==============================] - 0s 6ms/step - loss: 0.0288\n",
            "Epoch 36/100\n",
            "3/3 [==============================] - 0s 6ms/step - loss: 0.0253\n",
            "Epoch 37/100\n",
            "3/3 [==============================] - 0s 7ms/step - loss: 0.0194\n",
            "Epoch 38/100\n",
            "3/3 [==============================] - 0s 8ms/step - loss: 0.0211\n",
            "Epoch 39/100\n",
            "3/3 [==============================] - 0s 6ms/step - loss: 0.0199\n",
            "Epoch 40/100\n",
            "3/3 [==============================] - 0s 6ms/step - loss: 0.0276\n",
            "Epoch 41/100\n",
            "3/3 [==============================] - 0s 9ms/step - loss: 0.0239\n",
            "Epoch 42/100\n",
            "3/3 [==============================] - 0s 7ms/step - loss: 0.0306\n",
            "Epoch 43/100\n",
            "3/3 [==============================] - 0s 7ms/step - loss: 0.0216\n",
            "Epoch 44/100\n",
            "3/3 [==============================] - 0s 6ms/step - loss: 0.0223\n",
            "Epoch 45/100\n",
            "3/3 [==============================] - 0s 6ms/step - loss: 0.0192\n",
            "Epoch 46/100\n",
            "3/3 [==============================] - 0s 7ms/step - loss: 0.0158\n",
            "Epoch 47/100\n",
            "3/3 [==============================] - 0s 11ms/step - loss: 0.0244\n",
            "Epoch 48/100\n",
            "3/3 [==============================] - 0s 7ms/step - loss: 0.0285\n",
            "Epoch 49/100\n",
            "3/3 [==============================] - 0s 6ms/step - loss: 0.0163\n",
            "Epoch 50/100\n",
            "3/3 [==============================] - 0s 6ms/step - loss: 0.0214\n",
            "Epoch 51/100\n",
            "3/3 [==============================] - 0s 7ms/step - loss: 0.0184\n",
            "Epoch 52/100\n",
            "3/3 [==============================] - 0s 7ms/step - loss: 0.0214\n",
            "Epoch 53/100\n",
            "3/3 [==============================] - 0s 7ms/step - loss: 0.0189\n",
            "Epoch 54/100\n",
            "3/3 [==============================] - 0s 7ms/step - loss: 0.0187\n",
            "Epoch 55/100\n",
            "3/3 [==============================] - 0s 10ms/step - loss: 0.0117\n",
            "Epoch 56/100\n",
            "3/3 [==============================] - 0s 7ms/step - loss: 0.0210\n",
            "Epoch 57/100\n",
            "3/3 [==============================] - 0s 7ms/step - loss: 0.0231\n",
            "Epoch 58/100\n",
            "3/3 [==============================] - 0s 10ms/step - loss: 0.0186\n",
            "Epoch 59/100\n",
            "3/3 [==============================] - 0s 6ms/step - loss: 0.0259\n",
            "Epoch 60/100\n",
            "3/3 [==============================] - 0s 7ms/step - loss: 0.0178\n",
            "Epoch 61/100\n",
            "3/3 [==============================] - 0s 8ms/step - loss: 0.0189\n",
            "Epoch 62/100\n",
            "3/3 [==============================] - 0s 9ms/step - loss: 0.0207\n",
            "Epoch 63/100\n",
            "3/3 [==============================] - 0s 9ms/step - loss: 0.0251\n",
            "Epoch 64/100\n",
            "3/3 [==============================] - 0s 7ms/step - loss: 0.0145\n",
            "Epoch 65/100\n",
            "3/3 [==============================] - 0s 7ms/step - loss: 0.0255\n",
            "Epoch 66/100\n",
            "3/3 [==============================] - 0s 9ms/step - loss: 0.0147\n",
            "Epoch 67/100\n",
            "3/3 [==============================] - 0s 8ms/step - loss: 0.0171\n",
            "Epoch 68/100\n",
            "3/3 [==============================] - 0s 7ms/step - loss: 0.0226\n",
            "Epoch 69/100\n",
            "3/3 [==============================] - 0s 7ms/step - loss: 0.0184\n",
            "Epoch 70/100\n",
            "3/3 [==============================] - 0s 10ms/step - loss: 0.0221\n",
            "Epoch 71/100\n",
            "3/3 [==============================] - 0s 9ms/step - loss: 0.0166\n",
            "Epoch 72/100\n",
            "3/3 [==============================] - 0s 9ms/step - loss: 0.0228\n",
            "Epoch 73/100\n",
            "3/3 [==============================] - 0s 8ms/step - loss: 0.0155\n",
            "Epoch 74/100\n",
            "3/3 [==============================] - 0s 7ms/step - loss: 0.0275\n",
            "Epoch 75/100\n",
            "3/3 [==============================] - 0s 7ms/step - loss: 0.0152\n",
            "Epoch 76/100\n",
            "3/3 [==============================] - 0s 7ms/step - loss: 0.0243\n",
            "Epoch 77/100\n",
            "3/3 [==============================] - 0s 6ms/step - loss: 0.0179\n",
            "Epoch 78/100\n",
            "3/3 [==============================] - 0s 7ms/step - loss: 0.0212\n",
            "Epoch 79/100\n",
            "3/3 [==============================] - 0s 8ms/step - loss: 0.0208\n",
            "Epoch 80/100\n",
            "3/3 [==============================] - 0s 6ms/step - loss: 0.0146\n",
            "Epoch 81/100\n",
            "3/3 [==============================] - 0s 6ms/step - loss: 0.0231\n",
            "Epoch 82/100\n",
            "3/3 [==============================] - 0s 8ms/step - loss: 0.0235\n",
            "Epoch 83/100\n",
            "3/3 [==============================] - 0s 7ms/step - loss: 0.0143\n",
            "Epoch 84/100\n",
            "3/3 [==============================] - 0s 9ms/step - loss: 0.0203\n",
            "Epoch 85/100\n",
            "3/3 [==============================] - 0s 7ms/step - loss: 0.0178\n",
            "Epoch 86/100\n",
            "3/3 [==============================] - 0s 8ms/step - loss: 0.0199\n",
            "Epoch 87/100\n",
            "3/3 [==============================] - 0s 8ms/step - loss: 0.0175\n",
            "Epoch 88/100\n",
            "3/3 [==============================] - 0s 7ms/step - loss: 0.0278\n",
            "Epoch 89/100\n",
            "3/3 [==============================] - 0s 13ms/step - loss: 0.0149\n",
            "Epoch 90/100\n",
            "3/3 [==============================] - 0s 8ms/step - loss: 0.0155\n",
            "Epoch 91/100\n",
            "3/3 [==============================] - 0s 7ms/step - loss: 0.0162\n",
            "Epoch 92/100\n",
            "3/3 [==============================] - 0s 7ms/step - loss: 0.0161\n",
            "Epoch 93/100\n",
            "3/3 [==============================] - 0s 9ms/step - loss: 0.0168\n",
            "Epoch 94/100\n",
            "3/3 [==============================] - 0s 7ms/step - loss: 0.0197\n",
            "Epoch 95/100\n",
            "3/3 [==============================] - 0s 8ms/step - loss: 0.0172\n",
            "Epoch 96/100\n",
            "3/3 [==============================] - 0s 7ms/step - loss: 0.0193\n",
            "Epoch 97/100\n",
            "3/3 [==============================] - 0s 7ms/step - loss: 0.0148\n",
            "Epoch 98/100\n",
            "3/3 [==============================] - 0s 7ms/step - loss: 0.0138\n",
            "Epoch 99/100\n",
            "3/3 [==============================] - 0s 7ms/step - loss: 0.0203\n",
            "Epoch 100/100\n",
            "3/3 [==============================] - 0s 7ms/step - loss: 0.0207\n"
          ]
        },
        {
          "output_type": "execute_result",
          "data": {
            "text/plain": [
              "<keras.callbacks.History at 0x7f4a5be0efd0>"
            ]
          },
          "metadata": {},
          "execution_count": 20
        }
      ]
    },
    {
      "cell_type": "markdown",
      "source": [
        "#Making the predicitions "
      ],
      "metadata": {
        "id": "9ssu6mpmIrV0"
      }
    },
    {
      "cell_type": "code",
      "source": [
        "test_set = df_test.values\n",
        "inputs = np.reshape(test_set, (len(test_set), 1))\n",
        "inputs = sc.transform(inputs)\n",
        "inputs = np.reshape(inputs, (len(inputs), 1, 1))\n",
        "predicted_btc_price = regressor.predict(inputs)\n",
        "predicted_btc_price = sc.inverse_transform(predicted_btc_price)"
      ],
      "metadata": {
        "id": "Lz6Q3DlQIlo5"
      },
      "execution_count": 22,
      "outputs": []
    },
    {
      "cell_type": "markdown",
      "source": [
        "#Visualisierung the Results"
      ],
      "metadata": {
        "id": "eVMQqBIdI7VG"
      }
    },
    {
      "cell_type": "code",
      "source": [
        "plt.figure(figsize = (20,7))\n",
        "plt.plot(test_set)\n",
        "plt.plot(predicted_btc_price)\n",
        "plt.xlabel('Time')\n",
        "plt.ylabel('Price')\n",
        "plt.title('Closing Price vs Time')\n",
        "plt.legend(['Actual price', 'Predicted price'])\n",
        "plt.show()"
      ],
      "metadata": {
        "colab": {
          "base_uri": "https://localhost:8080/",
          "height": 458
        },
        "id": "uZNxIRJpJAXM",
        "outputId": "666b145f-c22b-4555-acb9-f1501ac7602e"
      },
      "execution_count": 23,
      "outputs": [
        {
          "output_type": "display_data",
          "data": {
            "image/png": "[encoded data removed]",
            "text/plain": [
              "<Figure size 1440x504 with 1 Axes>"
            ]
          },
          "metadata": {
            "needs_background": "light"
          }
        }
      ]
    }
  ]
}